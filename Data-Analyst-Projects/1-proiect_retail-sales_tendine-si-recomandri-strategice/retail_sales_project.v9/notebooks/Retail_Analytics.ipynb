{
 "cells": [
  {
   "cell_type": "markdown",
   "id": "41bc9f07",
   "metadata": {},
   "source": [
    "# Retail Analytics Notebook\n",
    "Acest notebook încarcă datele demo, calculează indicatori și afișează grafice pentru trend și preț vs. volum."
   ]
  },
  {
   "cell_type": "code",
   "execution_count": null,
   "id": "d6ee1f2b",
   "metadata": {},
   "outputs": [],
   "source": [
    "\n",
    "import pandas as pd\n",
    "import numpy as np\n",
    "import matplotlib.pyplot as plt\n",
    "from pathlib import Path\n",
    "\n",
    "root = Path(\"..\").resolve().parent / \"data\" / \"processed\" if (Path.cwd() / \"..\" / \"data\" / \"processed\").exists() else Path(\"/mnt/data/retail_sales_project/data/processed\")\n",
    "fact = pd.read_csv(root/\"fact_sales.csv\", parse_dates=[\"OrderDate\"])\n",
    "dim_prod = pd.read_csv(root/\"dim_product.csv\")\n",
    "\n",
    "# 1) Daily sales & MA28\n",
    "daily = fact.groupby(\"OrderDate\", as_index=False)[\"NetSales\"].sum()\n",
    "daily[\"MA28\"] = daily[\"NetSales\"].rolling(28, min_periods=7).mean()\n",
    "\n",
    "plt.figure()\n",
    "plt.plot(daily[\"OrderDate\"], daily[\"NetSales\"], label=\"Daily Sales\")\n",
    "plt.plot(daily[\"OrderDate\"], daily[\"MA28\"], label=\"MA28\")\n",
    "plt.title(\"Daily NetSales & 28-day Moving Average\")\n",
    "plt.xlabel(\"Date\"); plt.ylabel(\"NetSales\"); plt.legend(); plt.show()\n",
    "\n",
    "# 2) Monthly totals\n",
    "daily[\"YearMonth\"] = daily[\"OrderDate\"].dt.to_period(\"M\").astype(str)\n",
    "monthly = daily.groupby(\"YearMonth\", as_index=False)[\"NetSales\"].sum()\n",
    "\n",
    "plt.figure()\n",
    "plt.bar(monthly[\"YearMonth\"], monthly[\"NetSales\"])\n",
    "plt.title(\"Monthly NetSales\")\n",
    "plt.xlabel(\"Year-Month\"); plt.ylabel(\"NetSales\"); plt.xticks(rotation=45, ha=\"right\"); plt.show()\n",
    "\n",
    "# 3) Price vs Qty (category weekly means)\n",
    "df = fact[fact[\"Quantity\"]>0].copy()\n",
    "df[\"UnitPrice\"] = df[\"NetSales\"] / df[\"Quantity\"]\n",
    "df[\"Week\"] = df[\"OrderDate\"] - pd.to_timedelta(df[\"OrderDate\"].dt.weekday, unit='D')\n",
    "wk = df.groupby([\"ProductID\",\"Week\"], as_index=False).agg(Qty=(\"Quantity\",\"sum\"), Price=(\"UnitPrice\",\"mean\"))\n",
    "wk = wk.merge(dim_prod[[\"ProductID\",\"Category\"]], on=\"ProductID\", how=\"left\")\n",
    "cat_week = wk.groupby([\"Category\",\"Week\"], as_index=False).agg(Qty=(\"Qty\",\"mean\"), Price=(\"Price\",\"mean\"))\n",
    "\n",
    "plt.figure()\n",
    "plt.scatter(cat_week[\"Price\"], cat_week[\"Qty\"])\n",
    "plt.title(\"Price vs Quantity (Category-level Weekly Means)\")\n",
    "plt.xlabel(\"Price (mean)\"); plt.ylabel(\"Quantity (mean)\"); plt.show()\n"
   ]
  },
  {
   "cell_type": "markdown",
   "id": "736e975a",
   "metadata": {},
   "source": [
    "## Forecast — Daily NetSales (SARIMAX, fallback seasonal naive)\n",
    "Următorul cod antrenează un model SARIMAX cu sezonalitate săptămânală pe seria zilnică și face forecast pe 30 zile. Dacă librăria nu este disponibilă, folosește o metodă \"seasonal naive\" (media pe zi a săptămânii din ultimele 8 săptămâni)."
   ]
  },
  {
   "cell_type": "code",
   "execution_count": null,
   "id": "736fca35",
   "metadata": {},
   "outputs": [],
   "source": [
    "\n",
    "import pandas as pd, numpy as np\n",
    "import matplotlib.pyplot as plt\n",
    "from pathlib import Path\n",
    "\n",
    "root = Path(\"..\").resolve().parent / \"data\" / \"processed\" if (Path.cwd() / \"..\" / \"data\" / \"processed\").exists() else Path(\"/mnt/data/retail_sales_project/data/processed\")\n",
    "daily = pd.read_csv(root/\"fact_sales.csv\", parse_dates=[\"OrderDate\"]).groupby(\"OrderDate\", as_index=False)[\"NetSales\"].sum().sort_values(\"OrderDate\")\n",
    "daily = daily.set_index(\"OrderDate\").asfreq(\"D\").fillna(0.0)\n",
    "\n",
    "history = daily[\"NetSales\"]\n",
    "n_forecast = 30\n",
    "\n",
    "try:\n",
    "    import statsmodels.api as sm\n",
    "    model = sm.tsa.statespace.SARIMAX(history, order=(1,1,1), seasonal_order=(1,1,1,7), enforce_stationarity=False, enforce_invertibility=False)\n",
    "    res = model.fit(disp=False)\n",
    "    fc = res.get_forecast(steps=n_forecast)\n",
    "    forecast_df = fc.summary_frame()[[\"mean\",\"mean_ci_lower\",\"mean_ci_upper\"]]\n",
    "    forecast_df.columns = [\"yhat\",\"yhat_lower\",\"yhat_upper\"]\n",
    "    forecast_df.index.name = \"Date\"\n",
    "except Exception:\n",
    "    last_weeks = history.tail(56)\n",
    "    weekday_means = last_weeks.groupby(last_weeks.index.weekday).mean()\n",
    "    idx = pd.date_range(history.index[-1] + pd.Timedelta(days=1), periods=n_forecast, freq=\"D\")\n",
    "    yhat = [weekday_means[i.weekday()] for i in idx]\n",
    "    forecast_df = pd.DataFrame({\"yhat\": yhat, \"yhat_lower\": np.nan, \"yhat_upper\": np.nan}, index=idx)\n",
    "    forecast_df.index.name = \"Date\"\n",
    "\n",
    "plt.figure()\n",
    "plt.plot(history.index, history.values, label=\"History\")\n",
    "plt.plot(forecast_df.index, forecast_df[\"yhat\"].values, label=\"Forecast\")\n",
    "plt.title(\"Daily NetSales Forecast (next 30 days)\")\n",
    "plt.xlabel(\"Date\"); plt.ylabel(\"NetSales\"); plt.legend(); plt.show()\n",
    "\n",
    "forecast_df.head()\n"
   ]
  }
 ],
 "metadata": {
  "kernelspec": {
   "display_name": "Python 3",
   "name": "python3"
  }
 },
 "nbformat": 4,
 "nbformat_minor": 5
}
